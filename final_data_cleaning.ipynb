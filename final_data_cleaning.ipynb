{
 "cells": [
  {
   "cell_type": "markdown",
   "id": "ac175b9e",
   "metadata": {},
   "source": [
    "# Combined Data Cleaning \n",
    "This notebook focuses on final cleaning and enhancement of the merged rental listings dataset."
   ]
  },
  {
   "cell_type": "markdown",
   "id": "59dc8bbd",
   "metadata": {},
   "source": [
    "## 1. Import Libraries"
   ]
  },
  {
   "cell_type": "code",
   "execution_count": 1,
   "id": "291927d9",
   "metadata": {},
   "outputs": [],
   "source": [
    "import pandas as pd\n",
    "import numpy as np\n",
    "import matplotlib.pyplot as plt"
   ]
  },
  {
   "cell_type": "markdown",
   "id": "47fbb808",
   "metadata": {},
   "source": [
    "## 2. Load Combined Dataset"
   ]
  },
  {
   "cell_type": "code",
   "execution_count": 3,
   "id": "be54a611",
   "metadata": {},
   "outputs": [
    {
     "name": "stdout",
     "output_type": "stream",
     "text": [
      "<class 'pandas.core.frame.DataFrame'>\n",
      "RangeIndex: 5297 entries, 0 to 5296\n",
      "Data columns (total 6 columns):\n",
      " #   Column     Non-Null Count  Dtype  \n",
      "---  ------     --------------  -----  \n",
      " 0   title      5297 non-null   object \n",
      " 1   price      4345 non-null   float64\n",
      " 2   location   5197 non-null   object \n",
      " 3   area       4548 non-null   float64\n",
      " 4   bathrooms  4228 non-null   float64\n",
      " 5   bedrooms   4142 non-null   float64\n",
      "dtypes: float64(4), object(2)\n",
      "memory usage: 248.4+ KB\n"
     ]
    },
    {
     "data": {
      "text/html": [
       "<div>\n",
       "<style scoped>\n",
       "    .dataframe tbody tr th:only-of-type {\n",
       "        vertical-align: middle;\n",
       "    }\n",
       "\n",
       "    .dataframe tbody tr th {\n",
       "        vertical-align: top;\n",
       "    }\n",
       "\n",
       "    .dataframe thead th {\n",
       "        text-align: right;\n",
       "    }\n",
       "</style>\n",
       "<table border=\"1\" class=\"dataframe\">\n",
       "  <thead>\n",
       "    <tr style=\"text-align: right;\">\n",
       "      <th></th>\n",
       "      <th>title</th>\n",
       "      <th>price</th>\n",
       "      <th>location</th>\n",
       "      <th>area</th>\n",
       "      <th>bathrooms</th>\n",
       "      <th>bedrooms</th>\n",
       "    </tr>\n",
       "  </thead>\n",
       "  <tbody>\n",
       "    <tr>\n",
       "      <th>0</th>\n",
       "      <td>ADV905*4BHK Villa for rent in Madinat Illam in...</td>\n",
       "      <td>750.0</td>\n",
       "      <td>Qurum, Muscat•</td>\n",
       "      <td>300.0</td>\n",
       "      <td>4.0</td>\n",
       "      <td>4.0</td>\n",
       "    </tr>\n",
       "    <tr>\n",
       "      <th>1</th>\n",
       "      <td>ADV906**4BHK Villa in a comples in shatti qurum</td>\n",
       "      <td>1900.0</td>\n",
       "      <td>Qurum, Muscat•</td>\n",
       "      <td>300.0</td>\n",
       "      <td>4.0</td>\n",
       "      <td>4.0</td>\n",
       "    </tr>\n",
       "    <tr>\n",
       "      <th>2</th>\n",
       "      <td>ADC507*** Office Space in Azaiba – 440 sqm for...</td>\n",
       "      <td>2310.0</td>\n",
       "      <td>Azaiba, Muscat•</td>\n",
       "      <td>440.0</td>\n",
       "      <td>NaN</td>\n",
       "      <td>NaN</td>\n",
       "    </tr>\n",
       "    <tr>\n",
       "      <th>3</th>\n",
       "      <td>*ADV705** 3+1 BHK Villa for Rent in Bousher –A...</td>\n",
       "      <td>650.0</td>\n",
       "      <td>Bosher, Muscat•</td>\n",
       "      <td>350.0</td>\n",
       "      <td>4.0</td>\n",
       "      <td>3.0</td>\n",
       "    </tr>\n",
       "    <tr>\n",
       "      <th>4</th>\n",
       "      <td>4 BR + Maid’s Room Spacious Well-Designed Vill...</td>\n",
       "      <td>750.0</td>\n",
       "      <td>Azaiba, Muscat•</td>\n",
       "      <td>439.0</td>\n",
       "      <td>5.0</td>\n",
       "      <td>4.0</td>\n",
       "    </tr>\n",
       "  </tbody>\n",
       "</table>\n",
       "</div>"
      ],
      "text/plain": [
       "                                               title   price         location  \\\n",
       "0  ADV905*4BHK Villa for rent in Madinat Illam in...   750.0   Qurum, Muscat•   \n",
       "1    ADV906**4BHK Villa in a comples in shatti qurum  1900.0   Qurum, Muscat•   \n",
       "2  ADC507*** Office Space in Azaiba – 440 sqm for...  2310.0  Azaiba, Muscat•   \n",
       "3  *ADV705** 3+1 BHK Villa for Rent in Bousher –A...   650.0  Bosher, Muscat•   \n",
       "4  4 BR + Maid’s Room Spacious Well-Designed Vill...   750.0  Azaiba, Muscat•   \n",
       "\n",
       "    area  bathrooms  bedrooms  \n",
       "0  300.0        4.0       4.0  \n",
       "1  300.0        4.0       4.0  \n",
       "2  440.0        NaN       NaN  \n",
       "3  350.0        4.0       3.0  \n",
       "4  439.0        5.0       4.0  "
      ]
     },
     "execution_count": 3,
     "metadata": {},
     "output_type": "execute_result"
    }
   ],
   "source": [
    "combined = pd.read_csv('cleaned_combined_listings.csv')\n",
    "# Preview the combined data\n",
    "combined.info()\n",
    "combined.head()"
   ]
  },
  {
   "cell_type": "markdown",
   "id": "a16a2263",
   "metadata": {},
   "source": [
    "## 3. Initial Overview"
   ]
  },
  {
   "cell_type": "code",
   "execution_count": 4,
   "id": "70051d68",
   "metadata": {},
   "outputs": [
    {
     "data": {
      "text/html": [
       "<div>\n",
       "<style scoped>\n",
       "    .dataframe tbody tr th:only-of-type {\n",
       "        vertical-align: middle;\n",
       "    }\n",
       "\n",
       "    .dataframe tbody tr th {\n",
       "        vertical-align: top;\n",
       "    }\n",
       "\n",
       "    .dataframe thead th {\n",
       "        text-align: right;\n",
       "    }\n",
       "</style>\n",
       "<table border=\"1\" class=\"dataframe\">\n",
       "  <thead>\n",
       "    <tr style=\"text-align: right;\">\n",
       "      <th></th>\n",
       "      <th>price</th>\n",
       "      <th>area</th>\n",
       "      <th>bathrooms</th>\n",
       "      <th>bedrooms</th>\n",
       "    </tr>\n",
       "  </thead>\n",
       "  <tbody>\n",
       "    <tr>\n",
       "      <th>count</th>\n",
       "      <td>4345.000000</td>\n",
       "      <td>4548.000000</td>\n",
       "      <td>4228.000000</td>\n",
       "      <td>4142.000000</td>\n",
       "    </tr>\n",
       "    <tr>\n",
       "      <th>mean</th>\n",
       "      <td>1067.301952</td>\n",
       "      <td>3040.063771</td>\n",
       "      <td>2.906575</td>\n",
       "      <td>2.586432</td>\n",
       "    </tr>\n",
       "    <tr>\n",
       "      <th>std</th>\n",
       "      <td>9308.506300</td>\n",
       "      <td>44332.083252</td>\n",
       "      <td>2.019546</td>\n",
       "      <td>1.761193</td>\n",
       "    </tr>\n",
       "    <tr>\n",
       "      <th>min</th>\n",
       "      <td>0.000000</td>\n",
       "      <td>1.000000</td>\n",
       "      <td>0.000000</td>\n",
       "      <td>1.000000</td>\n",
       "    </tr>\n",
       "    <tr>\n",
       "      <th>25%</th>\n",
       "      <td>120.000000</td>\n",
       "      <td>67.000000</td>\n",
       "      <td>1.000000</td>\n",
       "      <td>1.000000</td>\n",
       "    </tr>\n",
       "    <tr>\n",
       "      <th>50%</th>\n",
       "      <td>340.000000</td>\n",
       "      <td>120.000000</td>\n",
       "      <td>2.000000</td>\n",
       "      <td>2.000000</td>\n",
       "    </tr>\n",
       "    <tr>\n",
       "      <th>75%</th>\n",
       "      <td>750.000000</td>\n",
       "      <td>300.000000</td>\n",
       "      <td>4.000000</td>\n",
       "      <td>4.000000</td>\n",
       "    </tr>\n",
       "    <tr>\n",
       "      <th>max</th>\n",
       "      <td>500000.000000</td>\n",
       "      <td>1000000.000000</td>\n",
       "      <td>24.000000</td>\n",
       "      <td>27.000000</td>\n",
       "    </tr>\n",
       "  </tbody>\n",
       "</table>\n",
       "</div>"
      ],
      "text/plain": [
       "               price            area    bathrooms     bedrooms\n",
       "count    4345.000000     4548.000000  4228.000000  4142.000000\n",
       "mean     1067.301952     3040.063771     2.906575     2.586432\n",
       "std      9308.506300    44332.083252     2.019546     1.761193\n",
       "min         0.000000        1.000000     0.000000     1.000000\n",
       "25%       120.000000       67.000000     1.000000     1.000000\n",
       "50%       340.000000      120.000000     2.000000     2.000000\n",
       "75%       750.000000      300.000000     4.000000     4.000000\n",
       "max    500000.000000  1000000.000000    24.000000    27.000000"
      ]
     },
     "execution_count": 4,
     "metadata": {},
     "output_type": "execute_result"
    }
   ],
   "source": [
    "# Summary statistics for numerical columns\n",
    "combined.describe()"
   ]
  },
  {
   "cell_type": "code",
   "execution_count": 5,
   "id": "46e2d919",
   "metadata": {},
   "outputs": [
    {
     "name": "stdout",
     "output_type": "stream",
     "text": [
      "Missing values per column:\n",
      "title           0\n",
      "price         952\n",
      "location      100\n",
      "area          749\n",
      "bathrooms    1069\n",
      "bedrooms     1155\n",
      "dtype: int64\n"
     ]
    }
   ],
   "source": [
    "# Check missing values by column\n",
    "missing = combined.isna().sum()\n",
    "print('Missing values per column:')\n",
    "print(missing)"
   ]
  },
  {
   "cell_type": "markdown",
   "id": "f042c3c2",
   "metadata": {},
   "source": [
    "## 4. Handle Missing Values"
   ]
  },
  {
   "cell_type": "code",
   "execution_count": 6,
   "id": "27415ad7",
   "metadata": {},
   "outputs": [
    {
     "name": "stdout",
     "output_type": "stream",
     "text": [
      "Imputed missing bedrooms with 2.0 and bathrooms with 2.0.\n"
     ]
    },
    {
     "name": "stderr",
     "output_type": "stream",
     "text": [
      "C:\\Users\\DuaaHilal\\AppData\\Local\\Temp\\ipykernel_21004\\1511046229.py:7: FutureWarning: A value is trying to be set on a copy of a DataFrame or Series through chained assignment using an inplace method.\n",
      "The behavior will change in pandas 3.0. This inplace method will never work because the intermediate object on which we are setting values always behaves as a copy.\n",
      "\n",
      "For example, when doing 'df[col].method(value, inplace=True)', try using 'df.method({col: value}, inplace=True)' or df[col] = df[col].method(value) instead, to perform the operation inplace on the original object.\n",
      "\n",
      "\n",
      "  overall['bedrooms'].fillna(med_bed, inplace=True)\n",
      "C:\\Users\\DuaaHilal\\AppData\\Local\\Temp\\ipykernel_21004\\1511046229.py:7: SettingWithCopyWarning: \n",
      "A value is trying to be set on a copy of a slice from a DataFrame\n",
      "\n",
      "See the caveats in the documentation: https://pandas.pydata.org/pandas-docs/stable/user_guide/indexing.html#returning-a-view-versus-a-copy\n",
      "  overall['bedrooms'].fillna(med_bed, inplace=True)\n",
      "C:\\Users\\DuaaHilal\\AppData\\Local\\Temp\\ipykernel_21004\\1511046229.py:8: FutureWarning: A value is trying to be set on a copy of a DataFrame or Series through chained assignment using an inplace method.\n",
      "The behavior will change in pandas 3.0. This inplace method will never work because the intermediate object on which we are setting values always behaves as a copy.\n",
      "\n",
      "For example, when doing 'df[col].method(value, inplace=True)', try using 'df.method({col: value}, inplace=True)' or df[col] = df[col].method(value) instead, to perform the operation inplace on the original object.\n",
      "\n",
      "\n",
      "  overall['bathrooms'].fillna(med_bath, inplace=True)\n",
      "C:\\Users\\DuaaHilal\\AppData\\Local\\Temp\\ipykernel_21004\\1511046229.py:8: SettingWithCopyWarning: \n",
      "A value is trying to be set on a copy of a slice from a DataFrame\n",
      "\n",
      "See the caveats in the documentation: https://pandas.pydata.org/pandas-docs/stable/user_guide/indexing.html#returning-a-view-versus-a-copy\n",
      "  overall['bathrooms'].fillna(med_bath, inplace=True)\n"
     ]
    }
   ],
   "source": [
    "# Drop rows with missing price or area, as these are critical\n",
    "overall = combined.dropna(subset=['price', 'area'])\n",
    "\n",
    "# Impute bedrooms and bathrooms with median\n",
    "med_bed = overall['bedrooms'].median()\n",
    "med_bath = overall['bathrooms'].median()\n",
    "overall['bedrooms'].fillna(med_bed, inplace=True)\n",
    "overall['bathrooms'].fillna(med_bath, inplace=True)\n",
    "\n",
    "print(f\"Imputed missing bedrooms with {med_bed} and bathrooms with {med_bath}.\")"
   ]
  },
  {
   "cell_type": "markdown",
   "id": "e547a251",
   "metadata": {},
   "source": [
    "## 5. Filter Outliers"
   ]
  },
  {
   "cell_type": "code",
   "execution_count": 7,
   "id": "e23d23a4",
   "metadata": {},
   "outputs": [
    {
     "name": "stdout",
     "output_type": "stream",
     "text": [
      "Filtered price_per_sqm outside 0.01 to 50.00.\n"
     ]
    }
   ],
   "source": [
    "# Remove non-positive and extreme outliers based on price per area ratio\n",
    "overall = overall[(overall['price'] > 0) & (overall['area'] > 0)]\n",
    "\n",
    "# Compute price per sqm\n",
    "overall['price_per_sqm'] = overall['price'] / overall['area']\n",
    "\n",
    "# Filter values outside the 1st and 99th percentile\n",
    "lower, upper = overall['price_per_sqm'].quantile([0.01, 0.99])\n",
    "overall = overall[(overall['price_per_sqm'] >= lower) & (overall['price_per_sqm'] <= upper)]\n",
    "print(f\"Filtered price_per_sqm outside {lower:.2f} to {upper:.2f}.\")"
   ]
  },
  {
   "cell_type": "markdown",
   "id": "a631ec32",
   "metadata": {},
   "source": [
    "## 6. Standardize Text Fields"
   ]
  },
  {
   "cell_type": "code",
   "execution_count": 8,
   "id": "e8238c30",
   "metadata": {},
   "outputs": [],
   "source": [
    "# Uniform title casing for locations\n",
    "overall['location'] = overall['location'].str.strip().str.title()\n",
    "\n",
    "# Clean extra whitespace in titles\n",
    "overall['title'] = overall['title'].str.strip()"
   ]
  },
  {
   "cell_type": "markdown",
   "id": "aeace577",
   "metadata": {},
   "source": [
    "## 7. Final Dataset & Export"
   ]
  },
  {
   "cell_type": "code",
   "execution_count": 10,
   "id": "1fed1c59",
   "metadata": {},
   "outputs": [
    {
     "name": "stdout",
     "output_type": "stream",
     "text": [
      "Final cleaned dataset saved to final_cleaned_listings.csv\n"
     ]
    },
    {
     "data": {
      "text/html": [
       "<div>\n",
       "<style scoped>\n",
       "    .dataframe tbody tr th:only-of-type {\n",
       "        vertical-align: middle;\n",
       "    }\n",
       "\n",
       "    .dataframe tbody tr th {\n",
       "        vertical-align: top;\n",
       "    }\n",
       "\n",
       "    .dataframe thead th {\n",
       "        text-align: right;\n",
       "    }\n",
       "</style>\n",
       "<table border=\"1\" class=\"dataframe\">\n",
       "  <thead>\n",
       "    <tr style=\"text-align: right;\">\n",
       "      <th></th>\n",
       "      <th>title</th>\n",
       "      <th>price</th>\n",
       "      <th>location</th>\n",
       "      <th>area</th>\n",
       "      <th>bathrooms</th>\n",
       "      <th>bedrooms</th>\n",
       "      <th>price_per_sqm</th>\n",
       "    </tr>\n",
       "  </thead>\n",
       "  <tbody>\n",
       "    <tr>\n",
       "      <th>0</th>\n",
       "      <td>ADV905*4BHK Villa for rent in Madinat Illam in...</td>\n",
       "      <td>750.0</td>\n",
       "      <td>Qurum, Muscat•</td>\n",
       "      <td>300.0</td>\n",
       "      <td>4.0</td>\n",
       "      <td>4.0</td>\n",
       "      <td>2.500000</td>\n",
       "    </tr>\n",
       "    <tr>\n",
       "      <th>1</th>\n",
       "      <td>ADV906**4BHK Villa in a comples in shatti qurum</td>\n",
       "      <td>1900.0</td>\n",
       "      <td>Qurum, Muscat•</td>\n",
       "      <td>300.0</td>\n",
       "      <td>4.0</td>\n",
       "      <td>4.0</td>\n",
       "      <td>6.333333</td>\n",
       "    </tr>\n",
       "    <tr>\n",
       "      <th>2</th>\n",
       "      <td>ADC507*** Office Space in Azaiba – 440 sqm for...</td>\n",
       "      <td>2310.0</td>\n",
       "      <td>Azaiba, Muscat•</td>\n",
       "      <td>440.0</td>\n",
       "      <td>2.0</td>\n",
       "      <td>2.0</td>\n",
       "      <td>5.250000</td>\n",
       "    </tr>\n",
       "    <tr>\n",
       "      <th>3</th>\n",
       "      <td>*ADV705** 3+1 BHK Villa for Rent in Bousher –A...</td>\n",
       "      <td>650.0</td>\n",
       "      <td>Bosher, Muscat•</td>\n",
       "      <td>350.0</td>\n",
       "      <td>4.0</td>\n",
       "      <td>3.0</td>\n",
       "      <td>1.857143</td>\n",
       "    </tr>\n",
       "    <tr>\n",
       "      <th>4</th>\n",
       "      <td>4 BR + Maid’s Room Spacious Well-Designed Vill...</td>\n",
       "      <td>750.0</td>\n",
       "      <td>Azaiba, Muscat•</td>\n",
       "      <td>439.0</td>\n",
       "      <td>5.0</td>\n",
       "      <td>4.0</td>\n",
       "      <td>1.708428</td>\n",
       "    </tr>\n",
       "  </tbody>\n",
       "</table>\n",
       "</div>"
      ],
      "text/plain": [
       "                                               title   price         location  \\\n",
       "0  ADV905*4BHK Villa for rent in Madinat Illam in...   750.0   Qurum, Muscat•   \n",
       "1    ADV906**4BHK Villa in a comples in shatti qurum  1900.0   Qurum, Muscat•   \n",
       "2  ADC507*** Office Space in Azaiba – 440 sqm for...  2310.0  Azaiba, Muscat•   \n",
       "3  *ADV705** 3+1 BHK Villa for Rent in Bousher –A...   650.0  Bosher, Muscat•   \n",
       "4  4 BR + Maid’s Room Spacious Well-Designed Vill...   750.0  Azaiba, Muscat•   \n",
       "\n",
       "    area  bathrooms  bedrooms  price_per_sqm  \n",
       "0  300.0        4.0       4.0       2.500000  \n",
       "1  300.0        4.0       4.0       6.333333  \n",
       "2  440.0        2.0       2.0       5.250000  \n",
       "3  350.0        4.0       3.0       1.857143  \n",
       "4  439.0        5.0       4.0       1.708428  "
      ]
     },
     "execution_count": 10,
     "metadata": {},
     "output_type": "execute_result"
    }
   ],
   "source": [
    "overall.to_csv('final_cleaned_listings.csv', index=False)\n",
    "print('Final cleaned dataset saved to final_cleaned_listings.csv')\n",
    "overall.head()"
   ]
  },
  {
   "cell_type": "markdown",
   "id": "601cc2f3",
   "metadata": {},
   "source": [
    "## 8. Basic Visualization "
   ]
  },
  {
   "cell_type": "code",
   "execution_count": 11,
   "id": "f427e3cc",
   "metadata": {},
   "outputs": [
    {
     "data": {
      "image/png": "[encoded data removed]",
      "text/plain": [
       "<Figure size 800x400 with 1 Axes>"
      ]
     },
     "metadata": {},
     "output_type": "display_data"
    }
   ],
   "source": [
    "plt.figure(figsize=(8,4))\n",
    "overall['price_per_sqm'].hist(bins=50)\n",
    "plt.title('Distribution of Price per sqm')\n",
    "plt.xlabel('Price per sqm')\n",
    "plt.ylabel('Count')\n",
    "plt.tight_layout()\n",
    "plt.show()"
   ]
  },
  {
   "cell_type": "code",
   "execution_count": null,
   "id": "9cca6ba7-267b-4747-9618-281b4c73ca3a",
   "metadata": {},
   "outputs": [],
   "source": []
  }
 ],
 "metadata": {
  "kernelspec": {
   "display_name": "Python [conda env:base] *",
   "language": "python",
   "name": "conda-base-py"
  },
  "language_info": {
   "codemirror_mode": {
    "name": "ipython",
    "version": 3
   },
   "file_extension": ".py",
   "mimetype": "text/x-python",
   "name": "python",
   "nbconvert_exporter": "python",
   "pygments_lexer": "ipython3",
   "version": "3.13.5"
  }
 },
 "nbformat": 4,
 "nbformat_minor": 5
}
