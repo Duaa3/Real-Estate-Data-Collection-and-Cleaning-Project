{
 "cells": [
  {
   "cell_type": "markdown",
   "id": "894261cf-2b3b-48ec-99d9-e101357a6bda",
   "metadata": {},
   "source": [
    "# Imports & Settings"
   ]
  },
  {
   "cell_type": "code",
   "execution_count": 1,
   "id": "6d226067",
   "metadata": {},
   "outputs": [],
   "source": [
    "import pandas as pd\n",
    "import numpy as np"
   ]
  },
  {
   "cell_type": "markdown",
   "id": "60aa6895-76fa-4741-978b-37599c9c281e",
   "metadata": {},
   "source": [
    "# Display options"
   ]
  },
  {
   "cell_type": "code",
   "execution_count": 3,
   "id": "62277ddb-42e4-4500-9dbc-126057c8b10b",
   "metadata": {},
   "outputs": [],
   "source": [
    "pd.set_option('display.max_columns', None)\n",
    "pd.set_option('display.max_rows', 20)"
   ]
  },
  {
   "cell_type": "markdown",
   "id": "48164ec2-efca-44a6-84ec-5d9fc3bbd39e",
   "metadata": {},
   "source": [
    "# Load Data & Initial Snapshot"
   ]
  },
  {
   "cell_type": "code",
   "execution_count": 4,
   "id": "ccfe3331",
   "metadata": {},
   "outputs": [
    {
     "name": "stdout",
     "output_type": "stream",
     "text": [
      "Initial shape: (5297, 6)\n"
     ]
    },
    {
     "data": {
      "text/html": [
       "<div>\n",
       "<style scoped>\n",
       "    .dataframe tbody tr th:only-of-type {\n",
       "        vertical-align: middle;\n",
       "    }\n",
       "\n",
       "    .dataframe tbody tr th {\n",
       "        vertical-align: top;\n",
       "    }\n",
       "\n",
       "    .dataframe thead th {\n",
       "        text-align: right;\n",
       "    }\n",
       "</style>\n",
       "<table border=\"1\" class=\"dataframe\">\n",
       "  <thead>\n",
       "    <tr style=\"text-align: right;\">\n",
       "      <th></th>\n",
       "      <th>title</th>\n",
       "      <th>price</th>\n",
       "      <th>location</th>\n",
       "      <th>area</th>\n",
       "      <th>bathrooms</th>\n",
       "      <th>bedrooms</th>\n",
       "    </tr>\n",
       "  </thead>\n",
       "  <tbody>\n",
       "    <tr>\n",
       "      <th>0</th>\n",
       "      <td>ADV905*4BHK Villa for rent in Madinat Illam in...</td>\n",
       "      <td>750.0</td>\n",
       "      <td>Qurum, Muscat•</td>\n",
       "      <td>300.0</td>\n",
       "      <td>4.0</td>\n",
       "      <td>4.0</td>\n",
       "    </tr>\n",
       "    <tr>\n",
       "      <th>1</th>\n",
       "      <td>ADV906**4BHK Villa in a comples in shatti qurum</td>\n",
       "      <td>1900.0</td>\n",
       "      <td>Qurum, Muscat•</td>\n",
       "      <td>300.0</td>\n",
       "      <td>4.0</td>\n",
       "      <td>4.0</td>\n",
       "    </tr>\n",
       "    <tr>\n",
       "      <th>2</th>\n",
       "      <td>ADC507*** Office Space in Azaiba – 440 sqm for...</td>\n",
       "      <td>2310.0</td>\n",
       "      <td>Azaiba, Muscat•</td>\n",
       "      <td>440.0</td>\n",
       "      <td>NaN</td>\n",
       "      <td>NaN</td>\n",
       "    </tr>\n",
       "    <tr>\n",
       "      <th>3</th>\n",
       "      <td>*ADV705** 3+1 BHK Villa for Rent in Bousher –A...</td>\n",
       "      <td>650.0</td>\n",
       "      <td>Bosher, Muscat•</td>\n",
       "      <td>350.0</td>\n",
       "      <td>4.0</td>\n",
       "      <td>3.0</td>\n",
       "    </tr>\n",
       "    <tr>\n",
       "      <th>4</th>\n",
       "      <td>4 BR + Maid’s Room Spacious Well-Designed Vill...</td>\n",
       "      <td>750.0</td>\n",
       "      <td>Azaiba, Muscat•</td>\n",
       "      <td>439.0</td>\n",
       "      <td>5.0</td>\n",
       "      <td>4.0</td>\n",
       "    </tr>\n",
       "  </tbody>\n",
       "</table>\n",
       "</div>"
      ],
      "text/plain": [
       "                                               title   price         location  \\\n",
       "0  ADV905*4BHK Villa for rent in Madinat Illam in...   750.0   Qurum, Muscat•   \n",
       "1    ADV906**4BHK Villa in a comples in shatti qurum  1900.0   Qurum, Muscat•   \n",
       "2  ADC507*** Office Space in Azaiba – 440 sqm for...  2310.0  Azaiba, Muscat•   \n",
       "3  *ADV705** 3+1 BHK Villa for Rent in Bousher –A...   650.0  Bosher, Muscat•   \n",
       "4  4 BR + Maid’s Room Spacious Well-Designed Vill...   750.0  Azaiba, Muscat•   \n",
       "\n",
       "    area  bathrooms  bedrooms  \n",
       "0  300.0        4.0       4.0  \n",
       "1  300.0        4.0       4.0  \n",
       "2  440.0        NaN       NaN  \n",
       "3  350.0        4.0       3.0  \n",
       "4  439.0        5.0       4.0  "
      ]
     },
     "execution_count": 4,
     "metadata": {},
     "output_type": "execute_result"
    }
   ],
   "source": [
    "df = pd.read_csv('cleaned_combined_listings.csv')\n",
    "print(f\"Initial shape: {df.shape}\")\n",
    "df.head()"
   ]
  },
  {
   "cell_type": "markdown",
   "id": "6b580367-11d8-42ce-b4a6-0dfab8ea4f38",
   "metadata": {},
   "source": [
    "# Overview of Missing Values"
   ]
  },
  {
   "cell_type": "code",
   "execution_count": 5,
   "id": "69ab44ad",
   "metadata": {},
   "outputs": [
    {
     "data": {
      "text/html": [
       "<div>\n",
       "<style scoped>\n",
       "    .dataframe tbody tr th:only-of-type {\n",
       "        vertical-align: middle;\n",
       "    }\n",
       "\n",
       "    .dataframe tbody tr th {\n",
       "        vertical-align: top;\n",
       "    }\n",
       "\n",
       "    .dataframe thead th {\n",
       "        text-align: right;\n",
       "    }\n",
       "</style>\n",
       "<table border=\"1\" class=\"dataframe\">\n",
       "  <thead>\n",
       "    <tr style=\"text-align: right;\">\n",
       "      <th></th>\n",
       "      <th>pct_missing</th>\n",
       "    </tr>\n",
       "  </thead>\n",
       "  <tbody>\n",
       "    <tr>\n",
       "      <th>bedrooms</th>\n",
       "      <td>0.218048</td>\n",
       "    </tr>\n",
       "    <tr>\n",
       "      <th>bathrooms</th>\n",
       "      <td>0.201812</td>\n",
       "    </tr>\n",
       "    <tr>\n",
       "      <th>price</th>\n",
       "      <td>0.179724</td>\n",
       "    </tr>\n",
       "    <tr>\n",
       "      <th>area</th>\n",
       "      <td>0.141401</td>\n",
       "    </tr>\n",
       "    <tr>\n",
       "      <th>location</th>\n",
       "      <td>0.018879</td>\n",
       "    </tr>\n",
       "    <tr>\n",
       "      <th>title</th>\n",
       "      <td>0.000000</td>\n",
       "    </tr>\n",
       "  </tbody>\n",
       "</table>\n",
       "</div>"
      ],
      "text/plain": [
       "           pct_missing\n",
       "bedrooms      0.218048\n",
       "bathrooms     0.201812\n",
       "price         0.179724\n",
       "area          0.141401\n",
       "location      0.018879\n",
       "title         0.000000"
      ]
     },
     "execution_count": 5,
     "metadata": {},
     "output_type": "execute_result"
    }
   ],
   "source": [
    "missing_pct = df.isna().mean().sort_values(ascending=False)\n",
    "missing_pct.to_frame(name='pct_missing')"
   ]
  },
  {
   "cell_type": "markdown",
   "id": "d525cc89-b930-4013-92ee-aa1c7dbea1a0",
   "metadata": {},
   "source": [
    "#  Drop or Impute High‑Missing Columns\n",
    "# Drop columns with >50% missing"
   ]
  },
  {
   "cell_type": "code",
   "execution_count": 6,
   "id": "fde894f7",
   "metadata": {},
   "outputs": [],
   "source": [
    "high_missing = missing_pct[missing_pct > 0.5].index.tolist()\n",
    "df.drop(columns=high_missing, inplace=True)"
   ]
  },
  {
   "cell_type": "markdown",
   "id": "9279f5b8-584d-4369-9c90-0d548212030b",
   "metadata": {},
   "source": [
    "# Impute numerical with median, categorical with mode"
   ]
  },
  {
   "cell_type": "code",
   "execution_count": 7,
   "id": "10e4bc59-0df3-43c1-b65f-ac013404ac87",
   "metadata": {},
   "outputs": [
    {
     "name": "stderr",
     "output_type": "stream",
     "text": [
      "C:\\Users\\DuaaHilal\\AppData\\Local\\Temp\\ipykernel_16740\\937108172.py:6: FutureWarning: A value is trying to be set on a copy of a DataFrame or Series through chained assignment using an inplace method.\n",
      "The behavior will change in pandas 3.0. This inplace method will never work because the intermediate object on which we are setting values always behaves as a copy.\n",
      "\n",
      "For example, when doing 'df[col].method(value, inplace=True)', try using 'df.method({col: value}, inplace=True)' or df[col] = df[col].method(value) instead, to perform the operation inplace on the original object.\n",
      "\n",
      "\n",
      "  df[c].fillna(df[c].median(), inplace=True)\n",
      "C:\\Users\\DuaaHilal\\AppData\\Local\\Temp\\ipykernel_16740\\937108172.py:10: FutureWarning: A value is trying to be set on a copy of a DataFrame or Series through chained assignment using an inplace method.\n",
      "The behavior will change in pandas 3.0. This inplace method will never work because the intermediate object on which we are setting values always behaves as a copy.\n",
      "\n",
      "For example, when doing 'df[col].method(value, inplace=True)', try using 'df.method({col: value}, inplace=True)' or df[col] = df[col].method(value) instead, to perform the operation inplace on the original object.\n",
      "\n",
      "\n",
      "  df[c].fillna(df[c].mode()[0], inplace=True)\n"
     ]
    }
   ],
   "source": [
    "num_cols = df.select_dtypes(include='number').columns\n",
    "cat_cols = df.select_dtypes(include='object').columns\n",
    "\n",
    "for c in num_cols:\n",
    "    if df[c].isna().any():\n",
    "        df[c].fillna(df[c].median(), inplace=True)\n",
    "\n",
    "for c in cat_cols:\n",
    "    if df[c].isna().any():\n",
    "        df[c].fillna(df[c].mode()[0], inplace=True)"
   ]
  },
  {
   "cell_type": "markdown",
   "id": "4fc8ea18-33d4-4473-95da-52cd6392a6db",
   "metadata": {},
   "source": [
    "# Remove Exact & Near‑Duplicate Rows"
   ]
  },
  {
   "cell_type": "code",
   "execution_count": 9,
   "id": "8a7aa045",
   "metadata": {},
   "outputs": [
    {
     "name": "stdout",
     "output_type": "stream",
     "text": [
      "Exact duplicates to drop: 1\n",
      "Near‑duplicates to drop: 74\n"
     ]
    }
   ],
   "source": [
    "dup_count = df.duplicated().sum()\n",
    "print(f\"Exact duplicates to drop: {dup_count}\")\n",
    "df.drop_duplicates(inplace=True)\n",
    "\n",
    "key = ['title', 'price', 'location']\n",
    "near_dup = df.duplicated(subset=key).sum()\n",
    "print(f\"Near‑duplicates to drop: {near_dup}\")\n",
    "df.drop_duplicates(subset=key, inplace=True)"
   ]
  },
  {
   "cell_type": "markdown",
   "id": "6d839a07-4770-4a6e-b9e3-619ea9ed4ba6",
   "metadata": {},
   "source": [
    "# Standardize Text Columns"
   ]
  },
  {
   "cell_type": "code",
   "execution_count": 15,
   "id": "43cb0506",
   "metadata": {},
   "outputs": [
    {
     "name": "stderr",
     "output_type": "stream",
     "text": [
      "C:\\Users\\DuaaHilal\\AppData\\Local\\Temp\\ipykernel_16740\\2696287885.py:3: SettingWithCopyWarning: \n",
      "A value is trying to be set on a copy of a slice from a DataFrame.\n",
      "Try using .loc[row_indexer,col_indexer] = value instead\n",
      "\n",
      "See the caveats in the documentation: https://pandas.pydata.org/pandas-docs/stable/user_guide/indexing.html#returning-a-view-versus-a-copy\n",
      "  df[c] = df[c].str.strip().str.lower()\n",
      "C:\\Users\\DuaaHilal\\AppData\\Local\\Temp\\ipykernel_16740\\2696287885.py:6: SettingWithCopyWarning: \n",
      "A value is trying to be set on a copy of a slice from a DataFrame.\n",
      "Try using .loc[row_indexer,col_indexer] = value instead\n",
      "\n",
      "See the caveats in the documentation: https://pandas.pydata.org/pandas-docs/stable/user_guide/indexing.html#returning-a-view-versus-a-copy\n",
      "  df['location'] = df['location'].replace({\n"
     ]
    }
   ],
   "source": [
    "for c in ['title', 'description', 'location']:\n",
    "    if c in df.columns:\n",
    "        df[c] = df[c].str.strip().str.lower()\n",
    "\n",
    "if 'location' in df.columns:\n",
    "    df['location'] = df['location'].replace({\n",
    "        'muscat city': 'muscat',\n",
    "        'muscat governorate': 'muscat'\n",
    "    })"
   ]
  },
  {
   "cell_type": "markdown",
   "id": "55b4441b-363d-4a04-96d3-4de28f600710",
   "metadata": {},
   "source": [
    "# Handle Outliers in Numeric Features"
   ]
  },
  {
   "cell_type": "code",
   "execution_count": 16,
   "id": "c7338e9b",
   "metadata": {},
   "outputs": [
    {
     "name": "stdout",
     "output_type": "stream",
     "text": [
      "price: dropped 144 outliers\n",
      "bedrooms: dropped 58 outliers\n"
     ]
    }
   ],
   "source": [
    "# Only process specified columns if they exist\n",
    "cols_to_check = [c for c in ['price', 'area_sqft', 'bedrooms'] if c in df.columns]\n",
    "for col in cols_to_check:\n",
    "    before = df.shape[0]\n",
    "    df = remove_outliers(col)\n",
    "    after = df.shape[0]\n",
    "    print(f\"{col}: dropped {before-after} outliers\")"
   ]
  },
  {
   "cell_type": "markdown",
   "id": "65d83f1e-d1e2-40c9-97df-5f13207c76f6",
   "metadata": {},
   "source": [
    "# Feature‑Specific Cleaning / Parsing"
   ]
  },
  {
   "cell_type": "code",
   "execution_count": 18,
   "id": "26146cc0",
   "metadata": {},
   "outputs": [],
   "source": [
    "if 'posted_date' in df.columns:\n",
    "    df['posted_date'] = pd.to_datetime(df['posted_date'], errors='coerce')\n",
    "    median_date = df['posted_date'].median()\n",
    "    df['posted_date'].fillna(median_date, inplace=True)\n",
    "\n",
    "if 'features' in df.columns:\n",
    "    df['num_features'] = df['features'].str.count(',') + 1"
   ]
  },
  {
   "cell_type": "markdown",
   "id": "b6c9b8c6-f72f-48a5-b244-bf53589e2ec6",
   "metadata": {},
   "source": [
    "# Consistency Checks & Final Sanity"
   ]
  },
  {
   "cell_type": "code",
   "execution_count": 19,
   "id": "78d2048d",
   "metadata": {},
   "outputs": [
    {
     "data": {
      "text/html": [
       "<div>\n",
       "<style scoped>\n",
       "    .dataframe tbody tr th:only-of-type {\n",
       "        vertical-align: middle;\n",
       "    }\n",
       "\n",
       "    .dataframe tbody tr th {\n",
       "        vertical-align: top;\n",
       "    }\n",
       "\n",
       "    .dataframe thead th {\n",
       "        text-align: right;\n",
       "    }\n",
       "</style>\n",
       "<table border=\"1\" class=\"dataframe\">\n",
       "  <thead>\n",
       "    <tr style=\"text-align: right;\">\n",
       "      <th></th>\n",
       "      <th>count</th>\n",
       "      <th>unique</th>\n",
       "      <th>top</th>\n",
       "      <th>freq</th>\n",
       "      <th>mean</th>\n",
       "      <th>std</th>\n",
       "      <th>min</th>\n",
       "      <th>25%</th>\n",
       "      <th>50%</th>\n",
       "      <th>75%</th>\n",
       "      <th>max</th>\n",
       "    </tr>\n",
       "  </thead>\n",
       "  <tbody>\n",
       "    <tr>\n",
       "      <th>title</th>\n",
       "      <td>4294</td>\n",
       "      <td>3936</td>\n",
       "      <td>room for rent</td>\n",
       "      <td>70</td>\n",
       "      <td>NaN</td>\n",
       "      <td>NaN</td>\n",
       "      <td>NaN</td>\n",
       "      <td>NaN</td>\n",
       "      <td>NaN</td>\n",
       "      <td>NaN</td>\n",
       "      <td>NaN</td>\n",
       "    </tr>\n",
       "    <tr>\n",
       "      <th>price</th>\n",
       "      <td>4294.0</td>\n",
       "      <td>NaN</td>\n",
       "      <td>NaN</td>\n",
       "      <td>NaN</td>\n",
       "      <td>307.719953</td>\n",
       "      <td>208.089197</td>\n",
       "      <td>0.0</td>\n",
       "      <td>120.0</td>\n",
       "      <td>340.0</td>\n",
       "      <td>400.0</td>\n",
       "      <td>890.0</td>\n",
       "    </tr>\n",
       "    <tr>\n",
       "      <th>location</th>\n",
       "      <td>4294</td>\n",
       "      <td>119</td>\n",
       "      <td>salalah, dhofar•</td>\n",
       "      <td>502</td>\n",
       "      <td>NaN</td>\n",
       "      <td>NaN</td>\n",
       "      <td>NaN</td>\n",
       "      <td>NaN</td>\n",
       "      <td>NaN</td>\n",
       "      <td>NaN</td>\n",
       "      <td>NaN</td>\n",
       "    </tr>\n",
       "    <tr>\n",
       "      <th>area</th>\n",
       "      <td>4294.0</td>\n",
       "      <td>NaN</td>\n",
       "      <td>NaN</td>\n",
       "      <td>NaN</td>\n",
       "      <td>3097.436122</td>\n",
       "      <td>45592.298056</td>\n",
       "      <td>1.0</td>\n",
       "      <td>65.0</td>\n",
       "      <td>120.0</td>\n",
       "      <td>200.0</td>\n",
       "      <td>1000000.0</td>\n",
       "    </tr>\n",
       "    <tr>\n",
       "      <th>bathrooms</th>\n",
       "      <td>4294.0</td>\n",
       "      <td>NaN</td>\n",
       "      <td>NaN</td>\n",
       "      <td>NaN</td>\n",
       "      <td>2.38612</td>\n",
       "      <td>1.437721</td>\n",
       "      <td>0.0</td>\n",
       "      <td>1.0</td>\n",
       "      <td>2.0</td>\n",
       "      <td>3.0</td>\n",
       "      <td>10.0</td>\n",
       "    </tr>\n",
       "    <tr>\n",
       "      <th>bedrooms</th>\n",
       "      <td>4294.0</td>\n",
       "      <td>NaN</td>\n",
       "      <td>NaN</td>\n",
       "      <td>NaN</td>\n",
       "      <td>2.173032</td>\n",
       "      <td>1.188739</td>\n",
       "      <td>1.0</td>\n",
       "      <td>1.0</td>\n",
       "      <td>2.0</td>\n",
       "      <td>3.0</td>\n",
       "      <td>6.0</td>\n",
       "    </tr>\n",
       "  </tbody>\n",
       "</table>\n",
       "</div>"
      ],
      "text/plain": [
       "            count unique               top freq         mean           std  \\\n",
       "title        4294   3936     room for rent   70          NaN           NaN   \n",
       "price      4294.0    NaN               NaN  NaN   307.719953    208.089197   \n",
       "location     4294    119  salalah, dhofar•  502          NaN           NaN   \n",
       "area       4294.0    NaN               NaN  NaN  3097.436122  45592.298056   \n",
       "bathrooms  4294.0    NaN               NaN  NaN      2.38612      1.437721   \n",
       "bedrooms   4294.0    NaN               NaN  NaN     2.173032      1.188739   \n",
       "\n",
       "           min    25%    50%    75%        max  \n",
       "title      NaN    NaN    NaN    NaN        NaN  \n",
       "price      0.0  120.0  340.0  400.0      890.0  \n",
       "location   NaN    NaN    NaN    NaN        NaN  \n",
       "area       1.0   65.0  120.0  200.0  1000000.0  \n",
       "bathrooms  0.0    1.0    2.0    3.0       10.0  \n",
       "bedrooms   1.0    1.0    2.0    3.0        6.0  "
      ]
     },
     "execution_count": 19,
     "metadata": {},
     "output_type": "execute_result"
    }
   ],
   "source": [
    "assert df.isna().sum().sum() == 0, \"There are still missing values!\"\n",
    "df.describe(include='all').T"
   ]
  },
  {
   "cell_type": "markdown",
   "id": "5e1bd66d-0c9f-41ae-a272-f68eab5a260a",
   "metadata": {},
   "source": [
    "#  Drop or flag zero‑price (and zero‑bath) listings"
   ]
  },
  {
   "cell_type": "code",
   "execution_count": 20,
   "id": "b8025508-8912-4720-8d29-ed5b28039861",
   "metadata": {},
   "outputs": [],
   "source": [
    "df = df[df['price'] > 0]\n",
    "df.loc[df['bathrooms'] == 0, 'bathrooms'] = df['bathrooms'].median()"
   ]
  },
  {
   "cell_type": "markdown",
   "id": "8e32626d-5dc5-4044-a425-e1acfccd5eed",
   "metadata": {},
   "source": [
    "#  Cap extreme outliers"
   ]
  },
  {
   "cell_type": "code",
   "execution_count": 21,
   "id": "52485a63-fe1c-4109-996c-6726cf4945bb",
   "metadata": {},
   "outputs": [],
   "source": [
    "for col in ['price','area','bedrooms']:\n",
    "    low, high = df[col].quantile([0.01,0.99])\n",
    "    df = df[df[col].between(low, high)]"
   ]
  },
  {
   "cell_type": "markdown",
   "id": "829d5520-65f2-4e63-a77c-a79874be29c7",
   "metadata": {},
   "source": [
    "# Clean text"
   ]
  },
  {
   "cell_type": "code",
   "execution_count": 23,
   "id": "7beb8cd1-6e74-4c65-94e0-55b1aa7e2105",
   "metadata": {},
   "outputs": [],
   "source": [
    "df['location'] = (\n",
    "    df['location']\n",
    "      .str.replace('•','', regex=False)\n",
    "      .str.strip()\n",
    "      .str.lower()\n",
    ")"
   ]
  },
  {
   "cell_type": "markdown",
   "id": "536a1974-559a-4890-bdd3-2a0a0762053e",
   "metadata": {},
   "source": [
    "# Log‑transform skewed numerics for modeling"
   ]
  },
  {
   "cell_type": "code",
   "execution_count": 25,
   "id": "25c1eb64-db4f-4d86-b417-a6fa0dad650c",
   "metadata": {},
   "outputs": [],
   "source": [
    "for col in ['price','area']:\n",
    "    df[f'log_{col}'] = np.log1p(df[col])"
   ]
  },
  {
   "cell_type": "markdown",
   "id": "22fd8d79-d93f-4f18-9070-44e047f98d91",
   "metadata": {},
   "source": [
    "# Consistency Checks & Final Sanity"
   ]
  },
  {
   "cell_type": "code",
   "execution_count": 26,
   "id": "4f3c20fe-a921-4968-842a-eb13dd846b5e",
   "metadata": {},
   "outputs": [
    {
     "data": {
      "text/html": [
       "<div>\n",
       "<style scoped>\n",
       "    .dataframe tbody tr th:only-of-type {\n",
       "        vertical-align: middle;\n",
       "    }\n",
       "\n",
       "    .dataframe tbody tr th {\n",
       "        vertical-align: top;\n",
       "    }\n",
       "\n",
       "    .dataframe thead th {\n",
       "        text-align: right;\n",
       "    }\n",
       "</style>\n",
       "<table border=\"1\" class=\"dataframe\">\n",
       "  <thead>\n",
       "    <tr style=\"text-align: right;\">\n",
       "      <th></th>\n",
       "      <th>count</th>\n",
       "      <th>unique</th>\n",
       "      <th>top</th>\n",
       "      <th>freq</th>\n",
       "      <th>mean</th>\n",
       "      <th>std</th>\n",
       "      <th>min</th>\n",
       "      <th>25%</th>\n",
       "      <th>50%</th>\n",
       "      <th>75%</th>\n",
       "      <th>max</th>\n",
       "    </tr>\n",
       "  </thead>\n",
       "  <tbody>\n",
       "    <tr>\n",
       "      <th>title</th>\n",
       "      <td>4211</td>\n",
       "      <td>3858</td>\n",
       "      <td>room for rent</td>\n",
       "      <td>70</td>\n",
       "      <td>NaN</td>\n",
       "      <td>NaN</td>\n",
       "      <td>NaN</td>\n",
       "      <td>NaN</td>\n",
       "      <td>NaN</td>\n",
       "      <td>NaN</td>\n",
       "      <td>NaN</td>\n",
       "    </tr>\n",
       "    <tr>\n",
       "      <th>price</th>\n",
       "      <td>4211.0</td>\n",
       "      <td>NaN</td>\n",
       "      <td>NaN</td>\n",
       "      <td>NaN</td>\n",
       "      <td>309.796599</td>\n",
       "      <td>207.132761</td>\n",
       "      <td>10.0</td>\n",
       "      <td>125.0</td>\n",
       "      <td>340.0</td>\n",
       "      <td>400.0</td>\n",
       "      <td>850.0</td>\n",
       "    </tr>\n",
       "    <tr>\n",
       "      <th>location</th>\n",
       "      <td>4211</td>\n",
       "      <td>115</td>\n",
       "      <td>salalah, dhofar</td>\n",
       "      <td>494</td>\n",
       "      <td>NaN</td>\n",
       "      <td>NaN</td>\n",
       "      <td>NaN</td>\n",
       "      <td>NaN</td>\n",
       "      <td>NaN</td>\n",
       "      <td>NaN</td>\n",
       "      <td>NaN</td>\n",
       "    </tr>\n",
       "    <tr>\n",
       "      <th>area</th>\n",
       "      <td>4211.0</td>\n",
       "      <td>NaN</td>\n",
       "      <td>NaN</td>\n",
       "      <td>NaN</td>\n",
       "      <td>252.016198</td>\n",
       "      <td>757.01286</td>\n",
       "      <td>10.0</td>\n",
       "      <td>65.0</td>\n",
       "      <td>115.0</td>\n",
       "      <td>200.0</td>\n",
       "      <td>11111.0</td>\n",
       "    </tr>\n",
       "    <tr>\n",
       "      <th>bathrooms</th>\n",
       "      <td>4211.0</td>\n",
       "      <td>NaN</td>\n",
       "      <td>NaN</td>\n",
       "      <td>NaN</td>\n",
       "      <td>2.401092</td>\n",
       "      <td>1.436507</td>\n",
       "      <td>1.0</td>\n",
       "      <td>1.0</td>\n",
       "      <td>2.0</td>\n",
       "      <td>3.0</td>\n",
       "      <td>10.0</td>\n",
       "    </tr>\n",
       "    <tr>\n",
       "      <th>bedrooms</th>\n",
       "      <td>4211.0</td>\n",
       "      <td>NaN</td>\n",
       "      <td>NaN</td>\n",
       "      <td>NaN</td>\n",
       "      <td>2.177393</td>\n",
       "      <td>1.195646</td>\n",
       "      <td>1.0</td>\n",
       "      <td>1.0</td>\n",
       "      <td>2.0</td>\n",
       "      <td>3.0</td>\n",
       "      <td>6.0</td>\n",
       "    </tr>\n",
       "    <tr>\n",
       "      <th>log_price</th>\n",
       "      <td>4211.0</td>\n",
       "      <td>NaN</td>\n",
       "      <td>NaN</td>\n",
       "      <td>NaN</td>\n",
       "      <td>5.429462</td>\n",
       "      <td>0.905372</td>\n",
       "      <td>2.397895</td>\n",
       "      <td>4.836282</td>\n",
       "      <td>5.831882</td>\n",
       "      <td>5.993961</td>\n",
       "      <td>6.746412</td>\n",
       "    </tr>\n",
       "    <tr>\n",
       "      <th>log_area</th>\n",
       "      <td>4211.0</td>\n",
       "      <td>NaN</td>\n",
       "      <td>NaN</td>\n",
       "      <td>NaN</td>\n",
       "      <td>4.70418</td>\n",
       "      <td>1.127904</td>\n",
       "      <td>2.397895</td>\n",
       "      <td>4.189655</td>\n",
       "      <td>4.75359</td>\n",
       "      <td>5.303305</td>\n",
       "      <td>9.315781</td>\n",
       "    </tr>\n",
       "  </tbody>\n",
       "</table>\n",
       "</div>"
      ],
      "text/plain": [
       "            count unique              top freq        mean         std  \\\n",
       "title        4211   3858    room for rent   70         NaN         NaN   \n",
       "price      4211.0    NaN              NaN  NaN  309.796599  207.132761   \n",
       "location     4211    115  salalah, dhofar  494         NaN         NaN   \n",
       "area       4211.0    NaN              NaN  NaN  252.016198   757.01286   \n",
       "bathrooms  4211.0    NaN              NaN  NaN    2.401092    1.436507   \n",
       "bedrooms   4211.0    NaN              NaN  NaN    2.177393    1.195646   \n",
       "log_price  4211.0    NaN              NaN  NaN    5.429462    0.905372   \n",
       "log_area   4211.0    NaN              NaN  NaN     4.70418    1.127904   \n",
       "\n",
       "                min       25%       50%       75%       max  \n",
       "title           NaN       NaN       NaN       NaN       NaN  \n",
       "price          10.0     125.0     340.0     400.0     850.0  \n",
       "location        NaN       NaN       NaN       NaN       NaN  \n",
       "area           10.0      65.0     115.0     200.0   11111.0  \n",
       "bathrooms       1.0       1.0       2.0       3.0      10.0  \n",
       "bedrooms        1.0       1.0       2.0       3.0       6.0  \n",
       "log_price  2.397895  4.836282  5.831882  5.993961  6.746412  \n",
       "log_area   2.397895  4.189655   4.75359  5.303305  9.315781  "
      ]
     },
     "execution_count": 26,
     "metadata": {},
     "output_type": "execute_result"
    }
   ],
   "source": [
    "assert df.isna().sum().sum() == 0, \"There are still missing values!\"\n",
    "df.describe(include='all').T"
   ]
  },
  {
   "cell_type": "markdown",
   "id": "14ec6c40-9e01-4dcb-8b4a-6f25ee5987cf",
   "metadata": {},
   "source": [
    "#  Save Final Clean CSV"
   ]
  },
  {
   "cell_type": "code",
   "execution_count": 27,
   "id": "2f905cdd",
   "metadata": {},
   "outputs": [
    {
     "name": "stdout",
     "output_type": "stream",
     "text": [
      "Saved\n"
     ]
    }
   ],
   "source": [
    "df.to_csv('cleaned_combined_listings_second_cleaned.csv', index=False)\n",
    "print(\"Saved\")"
   ]
  }
 ],
 "metadata": {
  "kernelspec": {
   "display_name": "Python [conda env:base] *",
   "language": "python",
   "name": "conda-base-py"
  },
  "language_info": {
   "codemirror_mode": {
    "name": "ipython",
    "version": 3
   },
   "file_extension": ".py",
   "mimetype": "text/x-python",
   "name": "python",
   "nbconvert_exporter": "python",
   "pygments_lexer": "ipython3",
   "version": "3.13.5"
  }
 },
 "nbformat": 4,
 "nbformat_minor": 5
}
