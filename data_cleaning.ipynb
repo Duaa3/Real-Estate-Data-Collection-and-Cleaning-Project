{
 "cells": [
  {
   "cell_type": "markdown",
   "id": "5f79e9a7",
   "metadata": {},
   "source": [
    "# Data Cleaning & Integration \n",
    "This notebook walks through loading, cleaning, and merging two rental datasets."
   ]
  },
  {
   "cell_type": "markdown",
   "id": "65c027fc",
   "metadata": {},
   "source": [
    "## 1. Import Libraries"
   ]
  },
  {
   "cell_type": "code",
   "execution_count": 1,
   "id": "9acfcfb6",
   "metadata": {},
   "outputs": [],
   "source": [
    "import pandas as pd\n",
    "import numpy as np\n",
    "import re"
   ]
  },
  {
   "cell_type": "markdown",
   "id": "7a878877",
   "metadata": {},
   "source": [
    "## 2. Load Datasets"
   ]
  },
  {
   "cell_type": "code",
   "execution_count": 13,
   "id": "24da61b9",
   "metadata": {},
   "outputs": [],
   "source": [
    "dubizzle = pd.read_csv('dubizzle_properties_for_rent.csv')\n",
    "mawa = pd.read_csv('mawa_rent_listings.csv')"
   ]
  },
  {
   "cell_type": "markdown",
   "id": "115e774e",
   "metadata": {},
   "source": [
    "## 3. Standardize Column Names"
   ]
  },
  {
   "cell_type": "code",
   "execution_count": 4,
   "id": "f15bab20",
   "metadata": {},
   "outputs": [],
   "source": [
    "dubizzle = dubizzle.rename(columns={\n",
    "    'property_name': 'title',\n",
    "    'price': 'price',\n",
    "    'beds': 'bedrooms'\n",
    "})\n",
    "mawa = mawa.rename(columns={\n",
    "    'Title': 'title',\n",
    "    'Price': 'price',\n",
    "    'Location': 'location',\n",
    "    'Area': 'area',\n",
    "    'Bathrooms': 'bathrooms',\n",
    "    'Bedrooms': 'bedrooms'\n",
    "})"
   ]
  },
  {
   "cell_type": "markdown",
   "id": "477e5046",
   "metadata": {},
   "source": [
    "## 4. Select Relevant Columns"
   ]
  },
  {
   "cell_type": "code",
   "execution_count": 5,
   "id": "58703e54",
   "metadata": {},
   "outputs": [],
   "source": [
    "cols = ['title', 'price', 'location', 'area', 'bathrooms', 'bedrooms']\n",
    "dubizzle = dubizzle[cols]\n",
    "mawa = mawa[cols]"
   ]
  },
  {
   "cell_type": "markdown",
   "id": "f6a6e85a",
   "metadata": {},
   "source": [
    "## 5. Define Cleaning Functions"
   ]
  },
  {
   "cell_type": "code",
   "execution_count": 6,
   "id": "6d9fa22f",
   "metadata": {},
   "outputs": [],
   "source": [
    "def clean_price(x):\n",
    "    if pd.isna(x): return np.nan\n",
    "    s = str(x).replace('OMR','').replace(',','').strip().lower()\n",
    "    if 'request' in s: return np.nan\n",
    "    try: return float(s)\n",
    "    except: return np.nan\n",
    "\n",
    "def clean_area(x):\n",
    "    if pd.isna(x): return np.nan\n",
    "    m = re.search(r'([\\d\\.,]+)', str(x))\n",
    "    return float(m.group(1).replace(',','')) if m else np.nan"
   ]
  },
  {
   "cell_type": "markdown",
   "id": "1885a89e",
   "metadata": {},
   "source": [
    "## 6. Apply Cleaning Functions"
   ]
  },
  {
   "cell_type": "code",
   "execution_count": 7,
   "id": "e7911aeb",
   "metadata": {},
   "outputs": [],
   "source": [
    "for df in (dubizzle, mawa):\n",
    "    df['price'] = df['price'].apply(clean_price)\n",
    "    df['area'] = df['area'].apply(clean_area)\n",
    "    df['bedrooms'] = pd.to_numeric(df['bedrooms'], errors='coerce')\n",
    "    df['bathrooms'] = pd.to_numeric(df['bathrooms'], errors='coerce')"
   ]
  },
  {
   "cell_type": "markdown",
   "id": "bd84eb40",
   "metadata": {},
   "source": [
    "## 7. Remove Duplicates"
   ]
  },
  {
   "cell_type": "code",
   "execution_count": 8,
   "id": "bb94a7b6",
   "metadata": {},
   "outputs": [],
   "source": [
    "dubizzle = dubizzle.drop_duplicates()\n",
    "mawa = mawa.drop_duplicates()"
   ]
  },
  {
   "cell_type": "markdown",
   "id": "9e416415",
   "metadata": {},
   "source": [
    "## 8. Combine Datasets & Export"
   ]
  },
  {
   "cell_type": "code",
   "execution_count": 10,
   "id": "361d139d",
   "metadata": {},
   "outputs": [
    {
     "name": "stdout",
     "output_type": "stream",
     "text": [
      "Saved cleaned_combined_listings.csv\n"
     ]
    }
   ],
   "source": [
    "combined = pd.concat([dubizzle, mawa], ignore_index=True)\n",
    "combined = combined.drop_duplicates().reset_index(drop=True)\n",
    "combined.to_csv('cleaned_combined_listings.csv', index=False)\n",
    "print('Saved cleaned_combined_listings.csv')"
   ]
  },
  {
   "cell_type": "markdown",
   "id": "348c8880",
   "metadata": {},
   "source": [
    "## 9. Preview Combined Data"
   ]
  },
  {
   "cell_type": "code",
   "execution_count": 12,
   "id": "61d051d5",
   "metadata": {},
   "outputs": [
    {
     "data": {
      "text/html": [
       "<div>\n",
       "<style scoped>\n",
       "    .dataframe tbody tr th:only-of-type {\n",
       "        vertical-align: middle;\n",
       "    }\n",
       "\n",
       "    .dataframe tbody tr th {\n",
       "        vertical-align: top;\n",
       "    }\n",
       "\n",
       "    .dataframe thead th {\n",
       "        text-align: right;\n",
       "    }\n",
       "</style>\n",
       "<table border=\"1\" class=\"dataframe\">\n",
       "  <thead>\n",
       "    <tr style=\"text-align: right;\">\n",
       "      <th></th>\n",
       "      <th>title</th>\n",
       "      <th>price</th>\n",
       "      <th>location</th>\n",
       "      <th>area</th>\n",
       "      <th>bathrooms</th>\n",
       "      <th>bedrooms</th>\n",
       "    </tr>\n",
       "  </thead>\n",
       "  <tbody>\n",
       "    <tr>\n",
       "      <th>0</th>\n",
       "      <td>ADV905*4BHK Villa for rent in Madinat Illam in...</td>\n",
       "      <td>750.0</td>\n",
       "      <td>Qurum, Muscat•</td>\n",
       "      <td>300.0</td>\n",
       "      <td>4.0</td>\n",
       "      <td>4.0</td>\n",
       "    </tr>\n",
       "    <tr>\n",
       "      <th>1</th>\n",
       "      <td>ADV906**4BHK Villa in a comples in shatti qurum</td>\n",
       "      <td>1900.0</td>\n",
       "      <td>Qurum, Muscat•</td>\n",
       "      <td>300.0</td>\n",
       "      <td>4.0</td>\n",
       "      <td>4.0</td>\n",
       "    </tr>\n",
       "    <tr>\n",
       "      <th>2</th>\n",
       "      <td>ADC507*** Office Space in Azaiba – 440 sqm for...</td>\n",
       "      <td>2310.0</td>\n",
       "      <td>Azaiba, Muscat•</td>\n",
       "      <td>440.0</td>\n",
       "      <td>NaN</td>\n",
       "      <td>NaN</td>\n",
       "    </tr>\n",
       "    <tr>\n",
       "      <th>3</th>\n",
       "      <td>*ADV705** 3+1 BHK Villa for Rent in Bousher –A...</td>\n",
       "      <td>650.0</td>\n",
       "      <td>Bosher, Muscat•</td>\n",
       "      <td>350.0</td>\n",
       "      <td>4.0</td>\n",
       "      <td>3.0</td>\n",
       "    </tr>\n",
       "    <tr>\n",
       "      <th>4</th>\n",
       "      <td>4 BR + Maid’s Room Spacious Well-Designed Vill...</td>\n",
       "      <td>750.0</td>\n",
       "      <td>Azaiba, Muscat•</td>\n",
       "      <td>439.0</td>\n",
       "      <td>5.0</td>\n",
       "      <td>4.0</td>\n",
       "    </tr>\n",
       "  </tbody>\n",
       "</table>\n",
       "</div>"
      ],
      "text/plain": [
       "                                               title   price         location  \\\n",
       "0  ADV905*4BHK Villa for rent in Madinat Illam in...   750.0   Qurum, Muscat•   \n",
       "1    ADV906**4BHK Villa in a comples in shatti qurum  1900.0   Qurum, Muscat•   \n",
       "2  ADC507*** Office Space in Azaiba – 440 sqm for...  2310.0  Azaiba, Muscat•   \n",
       "3  *ADV705** 3+1 BHK Villa for Rent in Bousher –A...   650.0  Bosher, Muscat•   \n",
       "4  4 BR + Maid’s Room Spacious Well-Designed Vill...   750.0  Azaiba, Muscat•   \n",
       "\n",
       "    area  bathrooms  bedrooms  \n",
       "0  300.0        4.0       4.0  \n",
       "1  300.0        4.0       4.0  \n",
       "2  440.0        NaN       NaN  \n",
       "3  350.0        4.0       3.0  \n",
       "4  439.0        5.0       4.0  "
      ]
     },
     "metadata": {},
     "output_type": "display_data"
    }
   ],
   "source": [
    "display(combined.head())"
   ]
  }
 ],
 "metadata": {
  "kernelspec": {
   "display_name": "Python [conda env:base] *",
   "language": "python",
   "name": "conda-base-py"
  },
  "language_info": {
   "codemirror_mode": {
    "name": "ipython",
    "version": 3
   },
   "file_extension": ".py",
   "mimetype": "text/x-python",
   "name": "python",
   "nbconvert_exporter": "python",
   "pygments_lexer": "ipython3",
   "version": "3.13.5"
  }
 },
 "nbformat": 4,
 "nbformat_minor": 5
}
