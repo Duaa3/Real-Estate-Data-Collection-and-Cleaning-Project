{
 "cells": [
  {
   "cell_type": "markdown",
   "id": "f4979ebe-5756-4de3-bd44-f05d7c4ba2c7",
   "metadata": {},
   "source": [
    "# Imports & Load Data"
   ]
  },
  {
   "cell_type": "code",
   "execution_count": 1,
   "id": "079e60f4",
   "metadata": {},
   "outputs": [
    {
     "name": "stdout",
     "output_type": "stream",
     "text": [
      "Data shape: (4211, 8)\n"
     ]
    }
   ],
   "source": [
    "import pandas as pd\n",
    "import numpy as np\n",
    "from datetime import datetime\n",
    "\n",
    "# Load the deep-cleaned dataset\n",
    "df = pd.read_csv('cleaned_combined_listings_second_cleaned.csv')\n",
    "print(\"Data shape:\", df.shape)"
   ]
  },
  {
   "cell_type": "markdown",
   "id": "e74b2371-a06e-4187-8192-021cddd4635e",
   "metadata": {},
   "source": [
    "# Generate New Features"
   ]
  },
  {
   "cell_type": "code",
   "execution_count": 2,
   "id": "a224fba4",
   "metadata": {},
   "outputs": [
    {
     "name": "stdout",
     "output_type": "stream",
     "text": [
      "Generated: price_per_sqft, area_sqm, price_per_sqm\n",
      "Generated: total_rooms\n"
     ]
    }
   ],
   "source": [
    "# Price per square foot (existing)\n",
    "if 'price' in df.columns and 'area' in df.columns:\n",
    "    df['price_per_sqft'] = df['price'] / df['area']\n",
    "    # Convert area from sqft to sqm (1 sqft = 0.092903 sqm) and calculate price per sqm\n",
    "    df['area_sqm'] = df['area'] * 0.092903\n",
    "    df['price_per_sqm'] = df['price'] / df['area_sqm']\n",
    "    print(\"Generated: price_per_sqft, area_sqm, price_per_sqm\")\n",
    "\n",
    "# Total rooms: sum of bedrooms and bathrooms (if available)\n",
    "if all(col in df.columns for col in ['bedrooms', 'bathrooms']):\n",
    "    df['total_rooms'] = df['bedrooms'] + df['bathrooms']\n",
    "    print(\"Generated: total_rooms\")"
   ]
  },
  {
   "cell_type": "markdown",
   "id": "5c262f72-b70b-402f-94a0-850b2644b445",
   "metadata": {},
   "source": [
    "# Generate New Features"
   ]
  },
  {
   "cell_type": "code",
   "execution_count": 3,
   "id": "30132418",
   "metadata": {},
   "outputs": [
    {
     "name": "stdout",
     "output_type": "stream",
     "text": [
      "One-hot encoded 'location'\n",
      "Ordinal encoded 'bedrooms' into 'bedrooms_enc'\n"
     ]
    }
   ],
   "source": [
    "# One-hot encode 'location'\n",
    "if 'location' in df.columns:\n",
    "    df = pd.get_dummies(df, columns=['location'], prefix='loc', drop_first=True)\n",
    "    print(\"One-hot encoded 'location'\")\n",
    "\n",
    "# Ordinal encode 'bedrooms' categories\n",
    "from sklearn.preprocessing import OrdinalEncoder\n",
    "if 'bedrooms' in df.columns:\n",
    "    oe = OrdinalEncoder()\n",
    "    df['bedrooms_enc'] = oe.fit_transform(df[['bedrooms']])\n",
    "    print(\"Ordinal encoded 'bedrooms' into 'bedrooms_enc'\")"
   ]
  },
  {
   "cell_type": "markdown",
   "id": "0fe53e4b-9627-4b84-9a5f-d7d97103e267",
   "metadata": {},
   "source": [
    "# Feature Scaling"
   ]
  },
  {
   "cell_type": "code",
   "execution_count": 4,
   "id": "1920b7f9",
   "metadata": {},
   "outputs": [
    {
     "name": "stdout",
     "output_type": "stream",
     "text": [
      "Applied StandardScaler to: ['price', 'area', 'price_per_sqft', 'price_per_sqm']\n",
      "Applied MinMaxScaler to: ['total_rooms']\n"
     ]
    }
   ],
   "source": [
    "from sklearn.preprocessing import StandardScaler, MinMaxScaler\n",
    "\n",
    "# Select features for scaling\n",
    "scale_std = ['price', 'area', 'price_per_sqft', 'price_per_sqm']\n",
    "scale_mm = ['total_rooms']\n",
    "\n",
    "# Standard scaling\n",
    "std_cols = [c for c in scale_std if c in df.columns]\n",
    "scaler_std = StandardScaler()\n",
    "df[std_cols] = scaler_std.fit_transform(df[std_cols])\n",
    "print(\"Applied StandardScaler to:\", std_cols)\n",
    "\n",
    "# Min-Max scaling\n",
    "mm_cols = [c for c in scale_mm if c in df.columns]\n",
    "scaler_mm = MinMaxScaler()\n",
    "df[mm_cols] = scaler_mm.fit_transform(df[mm_cols])\n",
    "print(\"Applied MinMaxScaler to:\", mm_cols)"
   ]
  },
  {
   "cell_type": "markdown",
   "id": "54bd67d6-8136-4188-b735-6d1e79adb993",
   "metadata": {},
   "source": [
    "# Save Feature-Engineered Data"
   ]
  },
  {
   "cell_type": "code",
   "execution_count": 5,
   "id": "753ff041",
   "metadata": {},
   "outputs": [
    {
     "name": "stdout",
     "output_type": "stream",
     "text": [
      "Saved with shape: (4211, 126)\n"
     ]
    }
   ],
   "source": [
    "df.to_csv('feature_engineered_listings_v2.csv', index=False)\n",
    "print(\"Saved with shape:\", df.shape)"
   ]
  }
 ],
 "metadata": {
  "kernelspec": {
   "display_name": "Python [conda env:base] *",
   "language": "python",
   "name": "conda-base-py"
  },
  "language_info": {
   "codemirror_mode": {
    "name": "ipython",
    "version": 3
   },
   "file_extension": ".py",
   "mimetype": "text/x-python",
   "name": "python",
   "nbconvert_exporter": "python",
   "pygments_lexer": "ipython3",
   "version": "3.13.5"
  }
 },
 "nbformat": 4,
 "nbformat_minor": 5
}
