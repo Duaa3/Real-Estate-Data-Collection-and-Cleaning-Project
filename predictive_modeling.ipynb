{
 "cells": [
  {
   "cell_type": "markdown",
   "id": "e1d8508d",
   "metadata": {},
   "source": [
    "# Predictive Modeling \n",
    "This notebook demonstrates setting up and evaluating regression models to predict property prices."
   ]
  },
  {
   "cell_type": "markdown",
   "id": "5c8df7bd",
   "metadata": {},
   "source": [
    "## 1. Import Libraries"
   ]
  },
  {
   "cell_type": "code",
   "execution_count": 1,
   "id": "c9bf0ac4",
   "metadata": {},
   "outputs": [],
   "source": [
    "import pandas as pd\n",
    "import numpy as np\n",
    "from sklearn.model_selection import train_test_split\n",
    "from sklearn.linear_model import LinearRegression\n",
    "from sklearn.tree import DecisionTreeRegressor\n",
    "from sklearn.ensemble import RandomForestRegressor\n",
    "from sklearn.metrics import mean_squared_error, r2_score"
   ]
  },
  {
   "cell_type": "markdown",
   "id": "9f36dc7d",
   "metadata": {},
   "source": [
    "## 2. Load Engineered Dataset"
   ]
  },
  {
   "cell_type": "code",
   "execution_count": 2,
   "id": "95f74a7b",
   "metadata": {},
   "outputs": [
    {
     "data": {
      "text/html": [
       "<div>\n",
       "<style scoped>\n",
       "    .dataframe tbody tr th:only-of-type {\n",
       "        vertical-align: middle;\n",
       "    }\n",
       "\n",
       "    .dataframe tbody tr th {\n",
       "        vertical-align: top;\n",
       "    }\n",
       "\n",
       "    .dataframe thead th {\n",
       "        text-align: right;\n",
       "    }\n",
       "</style>\n",
       "<table border=\"1\" class=\"dataframe\">\n",
       "  <thead>\n",
       "    <tr style=\"text-align: right;\">\n",
       "      <th></th>\n",
       "      <th>title</th>\n",
       "      <th>price</th>\n",
       "      <th>location</th>\n",
       "      <th>area</th>\n",
       "      <th>bathrooms</th>\n",
       "      <th>bedrooms</th>\n",
       "      <th>price_per_sqm</th>\n",
       "      <th>total_rooms</th>\n",
       "      <th>district</th>\n",
       "      <th>district_encoded</th>\n",
       "    </tr>\n",
       "  </thead>\n",
       "  <tbody>\n",
       "    <tr>\n",
       "      <th>0</th>\n",
       "      <td>ADV905*4BHK Villa for rent in Madinat Illam in...</td>\n",
       "      <td>750.0</td>\n",
       "      <td>Qurum, Muscat•</td>\n",
       "      <td>300.0</td>\n",
       "      <td>4.0</td>\n",
       "      <td>4.0</td>\n",
       "      <td>2.500000</td>\n",
       "      <td>8.0</td>\n",
       "      <td>Qurum</td>\n",
       "      <td>66</td>\n",
       "    </tr>\n",
       "    <tr>\n",
       "      <th>1</th>\n",
       "      <td>ADV906**4BHK Villa in a comples in shatti qurum</td>\n",
       "      <td>1900.0</td>\n",
       "      <td>Qurum, Muscat•</td>\n",
       "      <td>300.0</td>\n",
       "      <td>4.0</td>\n",
       "      <td>4.0</td>\n",
       "      <td>6.333333</td>\n",
       "      <td>8.0</td>\n",
       "      <td>Qurum</td>\n",
       "      <td>66</td>\n",
       "    </tr>\n",
       "    <tr>\n",
       "      <th>2</th>\n",
       "      <td>ADC507*** Office Space in Azaiba – 440 sqm for...</td>\n",
       "      <td>2310.0</td>\n",
       "      <td>Azaiba, Muscat•</td>\n",
       "      <td>440.0</td>\n",
       "      <td>2.0</td>\n",
       "      <td>2.0</td>\n",
       "      <td>5.250000</td>\n",
       "      <td>4.0</td>\n",
       "      <td>Azaiba</td>\n",
       "      <td>30</td>\n",
       "    </tr>\n",
       "    <tr>\n",
       "      <th>3</th>\n",
       "      <td>*ADV705** 3+1 BHK Villa for Rent in Bousher –A...</td>\n",
       "      <td>650.0</td>\n",
       "      <td>Bosher, Muscat•</td>\n",
       "      <td>350.0</td>\n",
       "      <td>4.0</td>\n",
       "      <td>3.0</td>\n",
       "      <td>1.857143</td>\n",
       "      <td>7.0</td>\n",
       "      <td>Bosher</td>\n",
       "      <td>39</td>\n",
       "    </tr>\n",
       "    <tr>\n",
       "      <th>4</th>\n",
       "      <td>4 BR + Maid’s Room Spacious Well-Designed Vill...</td>\n",
       "      <td>750.0</td>\n",
       "      <td>Azaiba, Muscat•</td>\n",
       "      <td>439.0</td>\n",
       "      <td>5.0</td>\n",
       "      <td>4.0</td>\n",
       "      <td>1.708428</td>\n",
       "      <td>9.0</td>\n",
       "      <td>Azaiba</td>\n",
       "      <td>30</td>\n",
       "    </tr>\n",
       "  </tbody>\n",
       "</table>\n",
       "</div>"
      ],
      "text/plain": [
       "                                               title   price         location  \\\n",
       "0  ADV905*4BHK Villa for rent in Madinat Illam in...   750.0   Qurum, Muscat•   \n",
       "1    ADV906**4BHK Villa in a comples in shatti qurum  1900.0   Qurum, Muscat•   \n",
       "2  ADC507*** Office Space in Azaiba – 440 sqm for...  2310.0  Azaiba, Muscat•   \n",
       "3  *ADV705** 3+1 BHK Villa for Rent in Bousher –A...   650.0  Bosher, Muscat•   \n",
       "4  4 BR + Maid’s Room Spacious Well-Designed Vill...   750.0  Azaiba, Muscat•   \n",
       "\n",
       "    area  bathrooms  bedrooms  price_per_sqm  total_rooms district  \\\n",
       "0  300.0        4.0       4.0       2.500000          8.0    Qurum   \n",
       "1  300.0        4.0       4.0       6.333333          8.0    Qurum   \n",
       "2  440.0        2.0       2.0       5.250000          4.0   Azaiba   \n",
       "3  350.0        4.0       3.0       1.857143          7.0   Bosher   \n",
       "4  439.0        5.0       4.0       1.708428          9.0   Azaiba   \n",
       "\n",
       "   district_encoded  \n",
       "0                66  \n",
       "1                66  \n",
       "2                30  \n",
       "3                39  \n",
       "4                30  "
      ]
     },
     "execution_count": 2,
     "metadata": {},
     "output_type": "execute_result"
    }
   ],
   "source": [
    "df = pd.read_csv('engineered_listings.csv')\n",
    "df.head()"
   ]
  },
  {
   "cell_type": "markdown",
   "id": "7c61417f",
   "metadata": {},
   "source": [
    "## 3. Prepare Features and Target"
   ]
  },
  {
   "cell_type": "code",
   "execution_count": 3,
   "id": "fb0c6045",
   "metadata": {},
   "outputs": [
    {
     "name": "stdout",
     "output_type": "stream",
     "text": [
      "Training samples: 2822\n",
      "Testing samples: 706\n"
     ]
    }
   ],
   "source": [
    "# Define target and features\n",
    "target = 'price'\n",
    "features = ['area', 'total_rooms', 'district_encoded']\n",
    "\n",
    "X = df[features]\n",
    "y = df[target]\n",
    "\n",
    "# Split into training and testing sets\n",
    "X_train, X_test, y_train, y_test = train_test_split(\n",
    "    X, y, test_size=0.2, random_state=42\n",
    ")\n",
    "print(f\"Training samples: {X_train.shape[0]}\")\n",
    "print(f\"Testing samples: {X_test.shape[0]}\")"
   ]
  },
  {
   "cell_type": "markdown",
   "id": "7b0b25f8",
   "metadata": {},
   "source": [
    "## 4. Train and Evaluate Models"
   ]
  },
  {
   "cell_type": "code",
   "execution_count": 4,
   "id": "3fc4ca62",
   "metadata": {},
   "outputs": [
    {
     "name": "stdout",
     "output_type": "stream",
     "text": [
      "Linear Regression — RMSE: 4675.03, R2: -4.06\n",
      "Decision Tree — RMSE: 1988.07, R2: 0.09\n",
      "Random Forest — RMSE: 1871.62, R2: 0.19\n"
     ]
    }
   ],
   "source": [
    "models = {\n",
    "    'Linear Regression': LinearRegression(),\n",
    "    'Decision Tree': DecisionTreeRegressor(random_state=42),\n",
    "    'Random Forest': RandomForestRegressor(random_state=42, n_estimators=100)\n",
    "}\n",
    "\n",
    "results = []\n",
    "for name, model in models.items():\n",
    "    model.fit(X_train, y_train)\n",
    "    preds = model.predict(X_test)\n",
    "    mse = mean_squared_error(y_test, preds)\n",
    "    rmse = np.sqrt(mse)\n",
    "    r2 = r2_score(y_test, preds)\n",
    "    print(f\"{name} — RMSE: {rmse:.2f}, R2: {r2:.2f}\")\n",
    "    results.append({'Model': name, 'RMSE': rmse, 'R2': r2})"
   ]
  },
  {
   "cell_type": "markdown",
   "id": "a8b8fdb0",
   "metadata": {},
   "source": [
    "## 5. Compare Model Performance"
   ]
  },
  {
   "cell_type": "code",
   "execution_count": 5,
   "id": "43c1d866",
   "metadata": {},
   "outputs": [
    {
     "data": {
      "text/html": [
       "<div>\n",
       "<style scoped>\n",
       "    .dataframe tbody tr th:only-of-type {\n",
       "        vertical-align: middle;\n",
       "    }\n",
       "\n",
       "    .dataframe tbody tr th {\n",
       "        vertical-align: top;\n",
       "    }\n",
       "\n",
       "    .dataframe thead th {\n",
       "        text-align: right;\n",
       "    }\n",
       "</style>\n",
       "<table border=\"1\" class=\"dataframe\">\n",
       "  <thead>\n",
       "    <tr style=\"text-align: right;\">\n",
       "      <th></th>\n",
       "      <th>Model</th>\n",
       "      <th>RMSE</th>\n",
       "      <th>R2</th>\n",
       "    </tr>\n",
       "  </thead>\n",
       "  <tbody>\n",
       "    <tr>\n",
       "      <th>0</th>\n",
       "      <td>Linear Regression</td>\n",
       "      <td>4675.026260</td>\n",
       "      <td>-4.055807</td>\n",
       "    </tr>\n",
       "    <tr>\n",
       "      <th>1</th>\n",
       "      <td>Decision Tree</td>\n",
       "      <td>1988.071695</td>\n",
       "      <td>0.085705</td>\n",
       "    </tr>\n",
       "    <tr>\n",
       "      <th>2</th>\n",
       "      <td>Random Forest</td>\n",
       "      <td>1871.619377</td>\n",
       "      <td>0.189678</td>\n",
       "    </tr>\n",
       "  </tbody>\n",
       "</table>\n",
       "</div>"
      ],
      "text/plain": [
       "               Model         RMSE        R2\n",
       "0  Linear Regression  4675.026260 -4.055807\n",
       "1      Decision Tree  1988.071695  0.085705\n",
       "2      Random Forest  1871.619377  0.189678"
      ]
     },
     "execution_count": 5,
     "metadata": {},
     "output_type": "execute_result"
    }
   ],
   "source": [
    "import pandas as pd\n",
    "pd.DataFrame(results)"
   ]
  },
  {
   "cell_type": "markdown",
   "id": "e46c2fc9",
   "metadata": {},
   "source": [
    "## 6. Feature Importance (Random Forest)"
   ]
  },
  {
   "cell_type": "code",
   "execution_count": 6,
   "id": "be7ce67f",
   "metadata": {},
   "outputs": [
    {
     "name": "stdout",
     "output_type": "stream",
     "text": [
      "area: 0.84\n",
      "total_rooms: 0.06\n",
      "district_encoded: 0.11\n"
     ]
    }
   ],
   "source": [
    "rf = models['Random Forest']\n",
    "importances = rf.feature_importances_\n",
    "for feat, imp in zip(features, importances):\n",
    "    print(f\"{feat}: {imp:.2f}\")"
   ]
  }
 ],
 "metadata": {
  "kernelspec": {
   "display_name": "Python [conda env:base] *",
   "language": "python",
   "name": "conda-base-py"
  },
  "language_info": {
   "codemirror_mode": {
    "name": "ipython",
    "version": 3
   },
   "file_extension": ".py",
   "mimetype": "text/x-python",
   "name": "python",
   "nbconvert_exporter": "python",
   "pygments_lexer": "ipython3",
   "version": "3.13.5"
  }
 },
 "nbformat": 4,
 "nbformat_minor": 5
}
