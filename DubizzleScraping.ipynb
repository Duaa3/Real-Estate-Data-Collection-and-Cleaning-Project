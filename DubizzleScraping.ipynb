{
 "cells": [
  {
   "cell_type": "markdown",
   "id": "8f689f33",
   "metadata": {},
   "source": [
    "# Dubizzle Scraping:\n",
    "This notebook demonstrates step-by-step web scraping from Dubizzle, from setup and request to parsing, data extraction, and saving results."
   ]
  },
  {
   "cell_type": "markdown",
   "id": "54bb2cd2",
   "metadata": {},
   "source": [
    "## 1. Setup & Imports"
   ]
  },
  {
   "cell_type": "code",
   "execution_count": 14,
   "id": "1428ab17",
   "metadata": {},
   "outputs": [],
   "source": [
    "# import necessary libraries\n",
    "import requests\n",
    "from bs4 import BeautifulSoup\n",
    "import time\n",
    "import pandas as pd"
   ]
  },
  {
   "cell_type": "markdown",
   "id": "653baad6",
   "metadata": {},
   "source": [
    "## 2. Define URL & Headers"
   ]
  },
  {
   "cell_type": "code",
   "execution_count": 17,
   "id": "30a70768",
   "metadata": {},
   "outputs": [],
   "source": [
    "headers = {\"User-Agent\": \"Mozilla/5.0\"}\n",
    "main_url = \"https://www.dubizzle.com.om\"\n",
    "\n",
    "# Prepare storage\n",
    "dubizzle_data = {\n",
    "    'property_name': [],\n",
    "    'price': [],\n",
    "    'location': [],\n",
    "    'area': [],\n",
    "    'bathrooms': [],\n",
    "    'beds': []\n",
    "}"
   ]
  },
  {
   "cell_type": "markdown",
   "id": "eeb0466a",
   "metadata": {},
   "source": [
    "## 3. Fetch Page"
   ]
  },
  {
   "cell_type": "code",
   "execution_count": 15,
   "id": "33aca941",
   "metadata": {},
   "outputs": [
    {
     "name": "stdout",
     "output_type": "stream",
     "text": [
      "Scraping page 1: https://www.dubizzle.com.om/en/properties/properties-for-rent/?page=1\n",
      "Scraping page 2: https://www.dubizzle.com.om/en/properties/properties-for-rent/?page=2\n",
      "Scraping page 3: https://www.dubizzle.com.om/en/properties/properties-for-rent/?page=3\n",
      "Scraping page 4: https://www.dubizzle.com.om/en/properties/properties-for-rent/?page=4\n",
      "Scraping page 5: https://www.dubizzle.com.om/en/properties/properties-for-rent/?page=5\n",
      "Scraping page 6: https://www.dubizzle.com.om/en/properties/properties-for-rent/?page=6\n",
      "Scraping page 7: https://www.dubizzle.com.om/en/properties/properties-for-rent/?page=7\n",
      "Scraping page 8: https://www.dubizzle.com.om/en/properties/properties-for-rent/?page=8\n",
      "Scraping page 9: https://www.dubizzle.com.om/en/properties/properties-for-rent/?page=9\n",
      "Scraping page 10: https://www.dubizzle.com.om/en/properties/properties-for-rent/?page=10\n",
      "Scraping page 11: https://www.dubizzle.com.om/en/properties/properties-for-rent/?page=11\n",
      "Scraping page 12: https://www.dubizzle.com.om/en/properties/properties-for-rent/?page=12\n",
      "Scraping page 13: https://www.dubizzle.com.om/en/properties/properties-for-rent/?page=13\n",
      "Scraping page 14: https://www.dubizzle.com.om/en/properties/properties-for-rent/?page=14\n",
      "Scraping page 15: https://www.dubizzle.com.om/en/properties/properties-for-rent/?page=15\n",
      "Scraping page 16: https://www.dubizzle.com.om/en/properties/properties-for-rent/?page=16\n",
      "Scraping page 17: https://www.dubizzle.com.om/en/properties/properties-for-rent/?page=17\n",
      "Scraping page 18: https://www.dubizzle.com.om/en/properties/properties-for-rent/?page=18\n",
      "Scraping page 19: https://www.dubizzle.com.om/en/properties/properties-for-rent/?page=19\n",
      "Scraping page 20: https://www.dubizzle.com.om/en/properties/properties-for-rent/?page=20\n",
      "Scraping page 21: https://www.dubizzle.com.om/en/properties/properties-for-rent/?page=21\n",
      "Scraping page 22: https://www.dubizzle.com.om/en/properties/properties-for-rent/?page=22\n",
      "Scraping page 23: https://www.dubizzle.com.om/en/properties/properties-for-rent/?page=23\n",
      "Scraping page 24: https://www.dubizzle.com.om/en/properties/properties-for-rent/?page=24\n",
      "Scraping page 25: https://www.dubizzle.com.om/en/properties/properties-for-rent/?page=25\n",
      "Scraping page 26: https://www.dubizzle.com.om/en/properties/properties-for-rent/?page=26\n",
      "Scraping page 27: https://www.dubizzle.com.om/en/properties/properties-for-rent/?page=27\n",
      "Scraping page 28: https://www.dubizzle.com.om/en/properties/properties-for-rent/?page=28\n",
      "Scraping page 29: https://www.dubizzle.com.om/en/properties/properties-for-rent/?page=29\n",
      "Scraping page 30: https://www.dubizzle.com.om/en/properties/properties-for-rent/?page=30\n",
      "Scraping page 31: https://www.dubizzle.com.om/en/properties/properties-for-rent/?page=31\n",
      "Scraping page 32: https://www.dubizzle.com.om/en/properties/properties-for-rent/?page=32\n",
      "Scraping page 33: https://www.dubizzle.com.om/en/properties/properties-for-rent/?page=33\n",
      "Scraping page 34: https://www.dubizzle.com.om/en/properties/properties-for-rent/?page=34\n",
      "Scraping page 35: https://www.dubizzle.com.om/en/properties/properties-for-rent/?page=35\n",
      "Scraping page 36: https://www.dubizzle.com.om/en/properties/properties-for-rent/?page=36\n",
      "Scraping page 37: https://www.dubizzle.com.om/en/properties/properties-for-rent/?page=37\n",
      "Scraping page 38: https://www.dubizzle.com.om/en/properties/properties-for-rent/?page=38\n",
      "Scraping page 39: https://www.dubizzle.com.om/en/properties/properties-for-rent/?page=39\n",
      "Scraping page 40: https://www.dubizzle.com.om/en/properties/properties-for-rent/?page=40\n",
      "Scraping page 41: https://www.dubizzle.com.om/en/properties/properties-for-rent/?page=41\n",
      "Scraping page 42: https://www.dubizzle.com.om/en/properties/properties-for-rent/?page=42\n",
      "Scraping page 43: https://www.dubizzle.com.om/en/properties/properties-for-rent/?page=43\n",
      "Scraping page 44: https://www.dubizzle.com.om/en/properties/properties-for-rent/?page=44\n",
      "Scraping page 45: https://www.dubizzle.com.om/en/properties/properties-for-rent/?page=45\n",
      "Scraping page 46: https://www.dubizzle.com.om/en/properties/properties-for-rent/?page=46\n",
      "Scraping page 47: https://www.dubizzle.com.om/en/properties/properties-for-rent/?page=47\n",
      "Scraping page 48: https://www.dubizzle.com.om/en/properties/properties-for-rent/?page=48\n",
      "Scraping page 49: https://www.dubizzle.com.om/en/properties/properties-for-rent/?page=49\n",
      "Scraping page 50: https://www.dubizzle.com.om/en/properties/properties-for-rent/?page=50\n",
      "Scraping page 51: https://www.dubizzle.com.om/en/properties/properties-for-rent/?page=51\n",
      "Scraping page 52: https://www.dubizzle.com.om/en/properties/properties-for-rent/?page=52\n",
      "Scraping page 53: https://www.dubizzle.com.om/en/properties/properties-for-rent/?page=53\n",
      "Scraping page 54: https://www.dubizzle.com.om/en/properties/properties-for-rent/?page=54\n",
      "Scraping page 55: https://www.dubizzle.com.om/en/properties/properties-for-rent/?page=55\n",
      "Scraping page 56: https://www.dubizzle.com.om/en/properties/properties-for-rent/?page=56\n",
      "Scraping page 57: https://www.dubizzle.com.om/en/properties/properties-for-rent/?page=57\n",
      "Scraping page 58: https://www.dubizzle.com.om/en/properties/properties-for-rent/?page=58\n",
      "Scraping page 59: https://www.dubizzle.com.om/en/properties/properties-for-rent/?page=59\n",
      "Scraping page 60: https://www.dubizzle.com.om/en/properties/properties-for-rent/?page=60\n",
      "Scraping page 61: https://www.dubizzle.com.om/en/properties/properties-for-rent/?page=61\n",
      "Scraping page 62: https://www.dubizzle.com.om/en/properties/properties-for-rent/?page=62\n",
      "Scraping page 63: https://www.dubizzle.com.om/en/properties/properties-for-rent/?page=63\n",
      "Scraping page 64: https://www.dubizzle.com.om/en/properties/properties-for-rent/?page=64\n",
      "Scraping page 65: https://www.dubizzle.com.om/en/properties/properties-for-rent/?page=65\n",
      "Scraping page 66: https://www.dubizzle.com.om/en/properties/properties-for-rent/?page=66\n",
      "Scraping page 67: https://www.dubizzle.com.om/en/properties/properties-for-rent/?page=67\n",
      "Scraping page 68: https://www.dubizzle.com.om/en/properties/properties-for-rent/?page=68\n",
      "Scraping page 69: https://www.dubizzle.com.om/en/properties/properties-for-rent/?page=69\n",
      "Scraping page 70: https://www.dubizzle.com.om/en/properties/properties-for-rent/?page=70\n",
      "Scraping page 71: https://www.dubizzle.com.om/en/properties/properties-for-rent/?page=71\n",
      "Scraping page 72: https://www.dubizzle.com.om/en/properties/properties-for-rent/?page=72\n",
      "Scraping page 73: https://www.dubizzle.com.om/en/properties/properties-for-rent/?page=73\n",
      "Scraping page 74: https://www.dubizzle.com.om/en/properties/properties-for-rent/?page=74\n",
      "Scraping page 75: https://www.dubizzle.com.om/en/properties/properties-for-rent/?page=75\n",
      "Scraping page 76: https://www.dubizzle.com.om/en/properties/properties-for-rent/?page=76\n",
      "Scraping page 77: https://www.dubizzle.com.om/en/properties/properties-for-rent/?page=77\n",
      "Scraping page 78: https://www.dubizzle.com.om/en/properties/properties-for-rent/?page=78\n",
      "Scraping page 79: https://www.dubizzle.com.om/en/properties/properties-for-rent/?page=79\n",
      "Scraping page 80: https://www.dubizzle.com.om/en/properties/properties-for-rent/?page=80\n",
      "Scraping page 81: https://www.dubizzle.com.om/en/properties/properties-for-rent/?page=81\n",
      "Scraping page 82: https://www.dubizzle.com.om/en/properties/properties-for-rent/?page=82\n",
      "Scraping page 83: https://www.dubizzle.com.om/en/properties/properties-for-rent/?page=83\n",
      "Scraping page 84: https://www.dubizzle.com.om/en/properties/properties-for-rent/?page=84\n",
      "Scraping page 85: https://www.dubizzle.com.om/en/properties/properties-for-rent/?page=85\n",
      "Scraping page 86: https://www.dubizzle.com.om/en/properties/properties-for-rent/?page=86\n",
      "Scraping page 87: https://www.dubizzle.com.om/en/properties/properties-for-rent/?page=87\n",
      "Scraping page 88: https://www.dubizzle.com.om/en/properties/properties-for-rent/?page=88\n",
      "Scraping page 89: https://www.dubizzle.com.om/en/properties/properties-for-rent/?page=89\n",
      "Scraping page 90: https://www.dubizzle.com.om/en/properties/properties-for-rent/?page=90\n",
      "Scraping page 91: https://www.dubizzle.com.om/en/properties/properties-for-rent/?page=91\n",
      "Scraping page 92: https://www.dubizzle.com.om/en/properties/properties-for-rent/?page=92\n",
      "Scraping page 93: https://www.dubizzle.com.om/en/properties/properties-for-rent/?page=93\n",
      "Scraping page 94: https://www.dubizzle.com.om/en/properties/properties-for-rent/?page=94\n",
      "Scraping page 95: https://www.dubizzle.com.om/en/properties/properties-for-rent/?page=95\n",
      "Scraping page 96: https://www.dubizzle.com.om/en/properties/properties-for-rent/?page=96\n",
      "Scraping page 97: https://www.dubizzle.com.om/en/properties/properties-for-rent/?page=97\n",
      "Scraping page 98: https://www.dubizzle.com.om/en/properties/properties-for-rent/?page=98\n",
      "Scraping page 99: https://www.dubizzle.com.om/en/properties/properties-for-rent/?page=99\n",
      "Scraping page 100: https://www.dubizzle.com.om/en/properties/properties-for-rent/?page=100\n",
      "Scraping page 101: https://www.dubizzle.com.om/en/properties/properties-for-rent/?page=101\n",
      "Scraping page 102: https://www.dubizzle.com.om/en/properties/properties-for-rent/?page=102\n",
      "Scraping page 103: https://www.dubizzle.com.om/en/properties/properties-for-rent/?page=103\n",
      "Scraping page 104: https://www.dubizzle.com.om/en/properties/properties-for-rent/?page=104\n"
     ]
    }
   ],
   "source": [
    "for page_number in range(1, 105):\n",
    "    current_page_url = f\"{main_url}/en/properties/properties-for-rent/?page={page_number}\"\n",
    "    print(f\"Scraping page {page_number}: {current_page_url}\")\n",
    "\n",
    "    response = requests.get(current_page_url, headers=headers)\n",
    "    soup = BeautifulSoup(response.content, 'html.parser')\n",
    "\n",
    "    cards = soup.find_all('li', attrs={\"aria-label\": \"Listing\"})\n",
    "    if not cards:\n",
    "        print(\"No listings found on this page. Stopping.\")\n",
    "        break\n",
    "\n",
    "    for card in cards:\n",
    "        title = card.find('h2', class_='_562a2db2')\n",
    "        dubizzle_data['property_name'].append(title.text.strip() if title else 'No title')\n",
    "\n",
    "        price = card.find('div', attrs={'aria-label': 'Price'})\n",
    "        dubizzle_data['price'].append(price.text.strip() if price else 'Price not mentioned')\n",
    "\n",
    "        location = card.find('span', class_='f7d5e47e')\n",
    "        dubizzle_data['location'].append(location.text.strip() if location else 'Location not mentioned')\n",
    "\n",
    "        area_tag = card.find('span', attrs={'aria-label': 'Area'})\n",
    "        area_value = area_tag.find('span', class_='_3e1113f0') if area_tag else None\n",
    "        dubizzle_data['area'].append(area_value.text.strip() if area_value else 'Not specified')\n",
    "\n",
    "        bath_tag = card.find('span', attrs={'aria-label': 'Bathrooms'})\n",
    "        bath_value = bath_tag.find('span', class_='_3e1113f0') if bath_tag else None\n",
    "        dubizzle_data['bathrooms'].append(bath_value.text.strip() if bath_value else 'Not specified')\n",
    "\n",
    "        bed_tag = card.find('span', attrs={'aria-label': 'Beds'})\n",
    "        bed_value = bed_tag.find('span', class_='_3e1113f0') if bed_tag else None\n",
    "        dubizzle_data['beds'].append(bed_value.text.strip() if bed_value else 'Not specified')\n",
    "\n",
    "    time.sleep(1.5)\n",
    "    "
   ]
  },
  {
   "cell_type": "markdown",
   "id": "139b2e7b",
   "metadata": {},
   "source": [
    "## 6. Create DataFrame"
   ]
  },
  {
   "cell_type": "code",
   "execution_count": 18,
   "id": "e04ed427",
   "metadata": {},
   "outputs": [],
   "source": [
    "# build DataFrame and preview\n",
    "df = pd.DataFrame(dubizzle_data)"
   ]
  },
  {
   "cell_type": "markdown",
   "id": "9d8a2037",
   "metadata": {},
   "source": [
    "## 7. Save to CSV"
   ]
  },
  {
   "cell_type": "code",
   "execution_count": null,
   "id": "bdb75d29",
   "metadata": {},
   "outputs": [],
   "source": [
    "#export results\n",
    "output_file = 'dubizzle_rent_listings.csv'\n",
    "df.to_csv(output_file, index=False)\n",
    "print('Saved to', output_file)\n"
   ]
  }
 ],
 "metadata": {
  "kernelspec": {
   "display_name": "Python [conda env:base] *",
   "language": "python",
   "name": "conda-base-py"
  },
  "language_info": {
   "codemirror_mode": {
    "name": "ipython",
    "version": 3
   },
   "file_extension": ".py",
   "mimetype": "text/x-python",
   "name": "python",
   "nbconvert_exporter": "python",
   "pygments_lexer": "ipython3",
   "version": "3.13.5"
  }
 },
 "nbformat": 4,
 "nbformat_minor": 5
}
